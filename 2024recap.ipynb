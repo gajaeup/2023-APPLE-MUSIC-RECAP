{
 "cells": [
  {
   "cell_type": "code",
   "execution_count": 2,
   "id": "dfa6d277",
   "metadata": {},
   "outputs": [],
   "source": [
    "import pandas as pd"
   ]
  },
  {
   "cell_type": "code",
   "execution_count": 3,
   "id": "226c8306",
   "metadata": {
    "scrolled": true
   },
   "outputs": [],
   "source": [
    "file_path=r'C:\\Users\\hp\\music_analy/applemusic2024.csv'\n",
    "song = pd.read_csv(file_path,encoding='cp949')"
   ]
  },
  {
   "cell_type": "code",
   "execution_count": 4,
   "id": "03a7aeda",
   "metadata": {},
   "outputs": [],
   "source": [
    "song= song.dropna(how='all', axis=1)\n"
   ]
  },
  {
   "cell_type": "code",
   "execution_count": 5,
   "id": "716b635a-4513-4d17-afdd-ffebd0195be9",
   "metadata": {},
   "outputs": [],
   "source": [
    "spac=song[song['Container Type']=='UNKNOWN'].index\n",
    "song.drop(spac, inplace = True)"
   ]
  },
  {
   "cell_type": "code",
   "execution_count": 6,
   "id": "9a5c1bb1-a999-43f8-afa2-73e30bf0e35d",
   "metadata": {},
   "outputs": [],
   "source": [
    "spac=song[song['Container Type']==''].index\n",
    "song.drop(spac, inplace = True)"
   ]
  },
  {
   "cell_type": "code",
   "execution_count": 7,
   "id": "312a4129",
   "metadata": {},
   "outputs": [],
   "source": [
    "spac = song[song['Container Type']=='ALBUM'].index\n",
    "song.drop(spac, inplace = True)"
   ]
  },
  {
   "cell_type": "code",
   "execution_count": 8,
   "id": "ab40c093",
   "metadata": {},
   "outputs": [],
   "source": [
    "spac = song[song['Container Type']=='RADIO'].index\n",
    "song.drop(spac, inplace = True)"
   ]
  },
  {
   "cell_type": "code",
   "execution_count": 9,
   "id": "b36bcbae",
   "metadata": {},
   "outputs": [
    {
     "name": "stdout",
     "output_type": "stream",
     "text": [
      "2024년에 추가된 노래 개수 : 878곡\n",
      "\n",
      "Ranking: 1\n",
      "Song: 항복\n",
      "Score: 5.7475\n",
      "\n",
      "\n",
      "Ranking: 2\n",
      "Song: Havin’ a Good Time\n",
      "Score: 5.7475\n",
      "\n",
      "\n",
      "Ranking: 3\n",
      "Song: 君君舞\n",
      "Score: 5.6049999999999995\n",
      "\n",
      "\n",
      "Ranking: 4\n",
      "Song: Beautiful World\n",
      "Score: 5.51\n",
      "\n",
      "\n",
      "Ranking: 5\n",
      "Song: STAY\n",
      "Score: 5.319999999999999\n",
      "\n",
      "\n",
      "Ranking: 6\n",
      "Song: Memories\n",
      "Score: 5.319999999999999\n",
      "\n",
      "\n",
      "Ranking: 7\n",
      "Song: Whiplash\n",
      "Score: 5.1\n",
      "\n",
      "\n",
      "Ranking: 8\n",
      "Song: Perfect Night\n",
      "Score: 4.369999999999999\n",
      "\n",
      "\n",
      "Ranking: 9\n",
      "Song: Fact Check\n",
      "Score: 4.369999999999999\n",
      "\n",
      "\n",
      "Ranking: 10\n",
      "Song: Magnetic\n",
      "Score: 4.369999999999999\n",
      "\n",
      "\n",
      "Ranking: 11\n",
      "Song: 唯愛 (劇集《七時吉祥》燃愛主題曲)\n",
      "Score: 3.515\n",
      "\n",
      "\n",
      "Ranking: 12\n",
      "Song: スイカ (feat. Uri Nakayama)\n",
      "Score: 3.515\n",
      "\n",
      "\n",
      "Ranking: 13\n",
      "Song: 落\n",
      "Score: 3.2249999999999996\n",
      "\n",
      "\n",
      "Ranking: 14\n",
      "Song: ?? (???《??》?曲)\n",
      "Score: 3.2249999999999996\n",
      "\n",
      "\n",
      "Ranking: 15\n",
      "Song: Bloodshot\n",
      "Score: 3.2249999999999996\n",
      "\n",
      "\n"
     ]
    }
   ],
   "source": [
    "from datetime import datetime, timedelta\n",
    "from collections import defaultdict\n",
    "\n",
    "RECENT_THRESHOLD = 60  # 최근 몇 일 동안 들은 노래에 가중치를 부여할 것인지\n",
    "SELECTION_WEIGHT = 1.5  # 직접 선택한 노래에 부여할 가중치\n",
    "\n",
    "song['Event Received Timestamp'] = pd.to_datetime(song['Event Received Timestamp'], errors='coerce')\n",
    "\n",
    "# 2024년에 들은 노래만 필터링\n",
    "song2024 = song[song['Event Received Timestamp'].dt.year == 2024].copy()\n",
    "\n",
    "song2024['Event Received Timestamp'] = pd.to_datetime(song2024['Event Received Timestamp'])\n",
    "song_dates = defaultdict(lambda: {'dates': [], 'score': 1.0})\n",
    "top_songs = song2024['Song Name'].value_counts().nlargest(15).index\n",
    "\n",
    "desired_date = datetime(2024, 12, 13)\n",
    "\n",
    "x\n",
    "    \n",
    "\n",
    "for i, row in song.iterrows():\n",
    "    song_name = row['Song Name']\n",
    "    score = 2.0 if (desired_date - row['Event Received Timestamp']).days <= RECENT_THRESHOLD else 1.0\n",
    "    days_since_played = (desired_date - row['Event Received Timestamp']).days\n",
    "    score = max(1.0, 2.0 - (days_since_played / RECENT_THRESHOLD))\n",
    "    \n",
    "    if row['Auto Play'] == 'AUTO_OFF':\n",
    "        score *= SELECTION_WEIGHT\n",
    "    if row['Repeat Play'] == 'REPEAT_ONE':\n",
    "        score *= 1.7\n",
    "    if song_name in top_songs:\n",
    "        score *= 1.9\n",
    "        \n",
    "    song_dates[song_name]['dates'].append(row['Event Received Timestamp'])\n",
    "    song_dates[song_name]['score'] = score\n",
    "\n",
    "\n",
    "top_songs = sorted(song_dates.items(), key=lambda x: x[1]['score'], reverse=True)[:15]\n",
    "\n",
    "new_song_cnt=len(get_newsongs_2024(song))\n",
    "print(f\"2024년에 추가된 노래 개수 : {new_song_cnt}곡\\n\")\n",
    "for rank, (song_name, data_info) in enumerate(top_songs, start=1):\n",
    "    print(f\"Ranking: {rank}\")\n",
    "    print(f\"Song: {song_name}\")\n",
    "    print(f\"Score: {data_info['score']}\")\n",
    "    print(\"\\n\")    "
   ]
  },
  {
   "cell_type": "code",
   "execution_count": null,
   "id": "656da90d",
   "metadata": {},
   "outputs": [],
   "source": []
  }
 ],
 "metadata": {
  "kernelspec": {
   "display_name": "Python 3 (ipykernel)",
   "language": "python",
   "name": "python3"
  },
  "language_info": {
   "codemirror_mode": {
    "name": "ipython",
    "version": 3
   },
   "file_extension": ".py",
   "mimetype": "text/x-python",
   "name": "python",
   "nbconvert_exporter": "python",
   "pygments_lexer": "ipython3",
   "version": "3.11.5"
  }
 },
 "nbformat": 4,
 "nbformat_minor": 5
}
